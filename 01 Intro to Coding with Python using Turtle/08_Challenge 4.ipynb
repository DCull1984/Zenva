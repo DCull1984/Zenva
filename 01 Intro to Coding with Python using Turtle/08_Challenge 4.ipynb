{
 "cells": [
  {
   "cell_type": "code",
   "execution_count": 7,
   "id": "7417d805",
   "metadata": {},
   "outputs": [],
   "source": [
    "#Draw and fill in and Equilateral Triangle, the triangle is 100 pixels on each face\n",
    "\n",
    "from turtle import *\n",
    "\n",
    "color(\"blue\")\n",
    "#Remember to use the OUTER angles, not the INNER\n",
    "begin_fill()\n",
    "\n",
    "forward(100)\n",
    "right(120)\n",
    "forward(100)\n",
    "right(120)\n",
    "forward(100)\n",
    "right(120)\n",
    "\n",
    "end_fill()\n"
   ]
  },
  {
   "cell_type": "code",
   "execution_count": null,
   "id": "32b2e28f",
   "metadata": {},
   "outputs": [],
   "source": [
    "#Answer was the same, just without the colour added"
   ]
  }
 ],
 "metadata": {
  "kernelspec": {
   "display_name": "Python 3 (ipykernel)",
   "language": "python",
   "name": "python3"
  },
  "language_info": {
   "codemirror_mode": {
    "name": "ipython",
    "version": 3
   },
   "file_extension": ".py",
   "mimetype": "text/x-python",
   "name": "python",
   "nbconvert_exporter": "python",
   "pygments_lexer": "ipython3",
   "version": "3.11.6"
  }
 },
 "nbformat": 4,
 "nbformat_minor": 5
}
