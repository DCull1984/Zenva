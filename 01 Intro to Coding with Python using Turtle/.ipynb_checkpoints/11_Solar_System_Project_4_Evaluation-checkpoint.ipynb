{
 "cells": [
  {
   "cell_type": "code",
   "execution_count": null,
   "id": "a3a1fae4",
   "metadata": {},
   "outputs": [],
   "source": [
    "#4 Evaluation\n",
    "#Create a Solar System using Python Turtle (Done)\n",
    "#Black background and different coloured planets (Done)\n",
    "#Develop using tools learned so far (Done)\n",
    "#This will be an example of how Python can be used to create digital art (Done)"
   ]
  }
 ],
 "metadata": {
  "kernelspec": {
   "display_name": "Python 3 (ipykernel)",
   "language": "python",
   "name": "python3"
  },
  "language_info": {
   "codemirror_mode": {
    "name": "ipython",
    "version": 3
   },
   "file_extension": ".py",
   "mimetype": "text/x-python",
   "name": "python",
   "nbconvert_exporter": "python",
   "pygments_lexer": "ipython3",
   "version": "3.11.6"
  }
 },
 "nbformat": 4,
 "nbformat_minor": 5
}
