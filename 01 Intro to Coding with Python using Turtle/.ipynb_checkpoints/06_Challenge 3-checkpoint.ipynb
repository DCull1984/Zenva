{
 "cells": [
  {
   "cell_type": "code",
   "execution_count": 4,
   "id": "1040b142",
   "metadata": {},
   "outputs": [],
   "source": [
    "#Challenge, changing colour, create 3 circles one green, one red and one purple\n",
    "\n",
    "from turtle import *\n",
    "\n",
    "color(\"green\")\n",
    "circle(50)\n",
    "\n",
    "forward(100)\n",
    "\n",
    "color(\"red\")\n",
    "circle(50)\n",
    "\n",
    "forward(100)\n",
    "\n",
    "color(\"purple\")\n",
    "circle(50)"
   ]
  },
  {
   "cell_type": "code",
   "execution_count": 6,
   "id": "f3891374",
   "metadata": {},
   "outputs": [],
   "source": [
    "#Answer given\n",
    "\n",
    "from turtle import *\n",
    "\n",
    "color(\"#35fc03\")\n",
    "circle(100)\n",
    "\n",
    "color(\"#fc0303\")\n",
    "circle(60)\n",
    "\n",
    "color(\"#ad03fc\")\n",
    "circle(30)"
   ]
  },
  {
   "cell_type": "code",
   "execution_count": null,
   "id": "5cbc166c",
   "metadata": {},
   "outputs": [],
   "source": []
  }
 ],
 "metadata": {
  "kernelspec": {
   "display_name": "Python 3 (ipykernel)",
   "language": "python",
   "name": "python3"
  },
  "language_info": {
   "codemirror_mode": {
    "name": "ipython",
    "version": 3
   },
   "file_extension": ".py",
   "mimetype": "text/x-python",
   "name": "python",
   "nbconvert_exporter": "python",
   "pygments_lexer": "ipython3",
   "version": "3.11.6"
  }
 },
 "nbformat": 4,
 "nbformat_minor": 5
}
