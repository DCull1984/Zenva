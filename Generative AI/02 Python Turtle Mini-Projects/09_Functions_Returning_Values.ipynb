{
 "cells": [
  {
   "cell_type": "code",
   "execution_count": 3,
   "id": "fa36f599",
   "metadata": {},
   "outputs": [
    {
     "name": "stdout",
     "output_type": "stream",
     "text": [
      "1080\n",
      "2048\n"
     ]
    }
   ],
   "source": [
    "#creating functions and returning values\n",
    "def add_and_print(number_1, number_2):\n",
    "    sum = number_1 + number_2\n",
    "    print(sum)\n",
    "    \n",
    "#Can just return number_1 + number_2 instead, but following course example\n",
    "def add_numbers(number_1, number_2):\n",
    "    sum = number_1 + number_2\n",
    "    return sum\n",
    "\n",
    "num = add_numbers(720, 360)\n",
    "\n",
    "print(num)\n",
    "\n",
    "add_and_print(1024, 1024)\n"
   ]
  },
  {
   "cell_type": "code",
   "execution_count": null,
   "id": "9aebfc3b",
   "metadata": {},
   "outputs": [],
   "source": []
  }
 ],
 "metadata": {
  "kernelspec": {
   "display_name": "Python 3 (ipykernel)",
   "language": "python",
   "name": "python3"
  },
  "language_info": {
   "codemirror_mode": {
    "name": "ipython",
    "version": 3
   },
   "file_extension": ".py",
   "mimetype": "text/x-python",
   "name": "python",
   "nbconvert_exporter": "python",
   "pygments_lexer": "ipython3",
   "version": "3.11.6"
  }
 },
 "nbformat": 4,
 "nbformat_minor": 5
}
