{
 "cells": [
  {
   "cell_type": "code",
   "execution_count": 1,
   "id": "322ffae5",
   "metadata": {},
   "outputs": [],
   "source": [
    "from turtle import *\n",
    "\n",
    "#create variables, initial balloon size and max balloon size (v.1)\n",
    "diameter = 40\n",
    "pop_diameter = 100\n",
    "\n",
    "#create functions for drawing the balloon(v.1)\n",
    "def draw_balloon():\n",
    "    color(\"red\")\n",
    "    dot(diameter)\n",
    "\n",
    "#call function to check everything works(v.1)\n",
    "draw_balloon()"
   ]
  }
 ],
 "metadata": {
  "kernelspec": {
   "display_name": "Python 3 (ipykernel)",
   "language": "python",
   "name": "python3"
  },
  "language_info": {
   "codemirror_mode": {
    "name": "ipython",
    "version": 3
   },
   "file_extension": ".py",
   "mimetype": "text/x-python",
   "name": "python",
   "nbconvert_exporter": "python",
   "pygments_lexer": "ipython3",
   "version": "3.11.6"
  }
 },
 "nbformat": 4,
 "nbformat_minor": 5
}
