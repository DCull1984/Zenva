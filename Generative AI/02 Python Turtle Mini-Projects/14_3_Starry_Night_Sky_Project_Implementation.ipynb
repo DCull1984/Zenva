{
 "cells": [
  {
   "cell_type": "code",
   "execution_count": 6,
   "id": "54958210",
   "metadata": {},
   "outputs": [],
   "source": [
    "from turtle import * #import all from turtle(v.1)\n",
    "from random import * #import all from random(v.2)\n",
    "\n",
    "#Change turtle speed(v.3)\n",
    "speed(0)\n",
    "\n",
    "#Set background colour(v.1)\n",
    "bgcolor(\"black\")\n",
    "#Hide the turtle/pen(v.1)\n",
    "hideturtle()\n",
    "\n",
    "#Create variables that determine the window size(v.3)\n",
    "width = window_width()\n",
    "height = window_height()\n",
    "\n",
    "#Draw star function(v.1)\n",
    "def draw_star(x_pos, y_pos):\n",
    "    size = randrange(4, 10)#create a random number between 4 and 10 for the star size(v.2)\n",
    "    penup() #stop the turtle from drawing unneeded lines(v.1)\n",
    "    goto(x_pos, y_pos) #move turtle to the star position(v.1)\n",
    "    pendown() #set the turtle dow to draw(v.1)\n",
    "    dot(size, \"white\") #draw the star in white(v.1) create star from size variable(v.2)\n",
    "\n",
    "#call the function to test(v.1)\n",
    "#draw_star(0,0)\n",
    "\n",
    "#Create the loop needed to call the draw_star function 100 times\n",
    "for x in range(100):\n",
    "    #print(\"draw_star\") #Testing the loop to make sure its working (v.2)\n",
    "    x_pos = randrange(round(-width / 2), round(width / 2)) #Generate random x position from 0 to maximum window width(v.3)\n",
    "    y_pos = randrange(round(-height / 2), round(height / 2)) #Generate random y position from 0 to maximum window height(v.3)\n",
    "    draw_star(x_pos, y_pos) #Generate Stars based on random x and y positions(v.3)\n",
    "    \n",
    "done()"
   ]
  },
  {
   "cell_type": "code",
   "execution_count": null,
   "id": "97e14378",
   "metadata": {},
   "outputs": [],
   "source": []
  }
 ],
 "metadata": {
  "kernelspec": {
   "display_name": "Python 3 (ipykernel)",
   "language": "python",
   "name": "python3"
  },
  "language_info": {
   "codemirror_mode": {
    "name": "ipython",
    "version": 3
   },
   "file_extension": ".py",
   "mimetype": "text/x-python",
   "name": "python",
   "nbconvert_exporter": "python",
   "pygments_lexer": "ipython3",
   "version": "3.11.6"
  }
 },
 "nbformat": 4,
 "nbformat_minor": 5
}
