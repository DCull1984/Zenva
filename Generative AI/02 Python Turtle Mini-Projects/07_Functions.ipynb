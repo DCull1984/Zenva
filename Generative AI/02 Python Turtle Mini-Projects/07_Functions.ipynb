{
 "cells": [
  {
   "cell_type": "code",
   "execution_count": 4,
   "id": "d0643ee9",
   "metadata": {},
   "outputs": [
    {
     "name": "stdout",
     "output_type": "stream",
     "text": [
      "Hello Ruby\n",
      "Hello Noel\n",
      "Hello Daniel\n",
      "Hello Pixie\n"
     ]
    }
   ],
   "source": [
    "#Creat a function to out put hello to the arugment supplied\n",
    "#def function name (arugment/parameter to pass in):\n",
    "def say_hello (name):\n",
    "    print(\"Hello \" + name)\n",
    "    \n",
    "#Call the function and supply the parameter/argument needed for the function to work\n",
    "say_hello(\"Ruby\")\n",
    "say_hello(\"Noel\")\n",
    "say_hello(\"Daniel\")\n",
    "say_hello(\"Pixie\")\n",
    "\n",
    "#Will show an error as no argument is supplied\n",
    "#say_hello()"
   ]
  },
  {
   "cell_type": "code",
   "execution_count": null,
   "id": "dfb4f884",
   "metadata": {},
   "outputs": [],
   "source": []
  }
 ],
 "metadata": {
  "kernelspec": {
   "display_name": "Python 3 (ipykernel)",
   "language": "python",
   "name": "python3"
  },
  "language_info": {
   "codemirror_mode": {
    "name": "ipython",
    "version": 3
   },
   "file_extension": ".py",
   "mimetype": "text/x-python",
   "name": "python",
   "nbconvert_exporter": "python",
   "pygments_lexer": "ipython3",
   "version": "3.11.6"
  }
 },
 "nbformat": 4,
 "nbformat_minor": 5
}
