{
 "cells": [
  {
   "cell_type": "code",
   "execution_count": 2,
   "id": "e384bbc4",
   "metadata": {},
   "outputs": [
    {
     "name": "stdout",
     "output_type": "stream",
     "text": [
      "20\n",
      "25.39\n",
      "Australia\n",
      "True\n"
     ]
    }
   ],
   "source": [
    "#Variables are data with a name and a value\n",
    "age = 20 #Integer\n",
    "temperature = 25.39 #Float/Decimal\n",
    "country = \"Australia\" #String\n",
    "is_day = True #Boolean/Bool\n",
    "\n",
    "print(age)\n",
    "print(temperature)\n",
    "print(country)\n",
    "print(is_day)"
   ]
  },
  {
   "cell_type": "code",
   "execution_count": null,
   "id": "587b826a",
   "metadata": {},
   "outputs": [],
   "source": []
  }
 ],
 "metadata": {
  "kernelspec": {
   "display_name": "Python 3 (ipykernel)",
   "language": "python",
   "name": "python3"
  },
  "language_info": {
   "codemirror_mode": {
    "name": "ipython",
    "version": 3
   },
   "file_extension": ".py",
   "mimetype": "text/x-python",
   "name": "python",
   "nbconvert_exporter": "python",
   "pygments_lexer": "ipython3",
   "version": "3.11.6"
  }
 },
 "nbformat": 4,
 "nbformat_minor": 5
}
