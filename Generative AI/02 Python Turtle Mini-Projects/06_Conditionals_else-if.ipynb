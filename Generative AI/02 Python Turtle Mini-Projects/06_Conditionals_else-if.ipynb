{
 "cells": [
  {
   "cell_type": "code",
   "execution_count": 3,
   "id": "52266410",
   "metadata": {},
   "outputs": [
    {
     "name": "stdout",
     "output_type": "stream",
     "text": [
      "Sorry, who are you?\n"
     ]
    }
   ],
   "source": [
    "#Expanding on if\n",
    "name = \"James\"\n",
    "\n",
    "if name == \"David\":\n",
    "    print(\"'Sup!\")\n",
    "    \n",
    "elif name == \"Ruby\":\n",
    "    print(\"Hello princess\")\n",
    "\n",
    "else:\n",
    "    print(\"Sorry, who are you?\")    "
   ]
  },
  {
   "cell_type": "code",
   "execution_count": null,
   "id": "d0fcb30f",
   "metadata": {},
   "outputs": [],
   "source": [
    "#Or\n",
    "a = 5\n",
    "b = 5\n",
    "\n",
    "if a == b:\n",
    "    print(\"A is equal to B\")\n",
    "\n",
    "elif a > b:\n",
    "    print(\"A is greater than B\")\n",
    "\n",
    "elif a < b:\n",
    "    print(\"A is less than B\")\n",
    "    \n",
    "elif a != b:\n",
    "    print(\"A is not equal to B\")\n",
    "    \n",
    "elif a >= b:\n",
    "    print(\"A is greater than or equal to B\")\n",
    "    \n",
    "elif a <= b:\n",
    "    print(\"A is less than or equal to B\")\n",
    "\n",
    "else:\n",
    "    print(\"Something went wrong\")"
   ]
  }
 ],
 "metadata": {
  "kernelspec": {
   "display_name": "Python 3 (ipykernel)",
   "language": "python",
   "name": "python3"
  },
  "language_info": {
   "codemirror_mode": {
    "name": "ipython",
    "version": 3
   },
   "file_extension": ".py",
   "mimetype": "text/x-python",
   "name": "python",
   "nbconvert_exporter": "python",
   "pygments_lexer": "ipython3",
   "version": "3.11.6"
  }
 },
 "nbformat": 4,
 "nbformat_minor": 5
}
