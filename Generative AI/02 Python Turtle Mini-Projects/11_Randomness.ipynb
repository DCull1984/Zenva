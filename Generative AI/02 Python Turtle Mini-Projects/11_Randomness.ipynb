{
 "cells": [
  {
   "cell_type": "code",
   "execution_count": 3,
   "id": "d7fd680e",
   "metadata": {},
   "outputs": [],
   "source": [
    "from random import *\n",
    "from turtle import *\n",
    "\n",
    "#generate a random number between 1 and 10\n",
    "#random_number = randrange(1, 10)\n",
    "#print(random_number)\n",
    "\n",
    "#move a random distance.\n",
    "forward(randrange(20, 100))\n",
    "#rotate a random number of degrees\n",
    "right(randrange(0, 360))\n",
    "#move forward a random distance.\n",
    "forward(randrange(20, 100))\n",
    "\n",
    "done()"
   ]
  }
 ],
 "metadata": {
  "kernelspec": {
   "display_name": "Python 3 (ipykernel)",
   "language": "python",
   "name": "python3"
  },
  "language_info": {
   "codemirror_mode": {
    "name": "ipython",
    "version": 3
   },
   "file_extension": ".py",
   "mimetype": "text/x-python",
   "name": "python",
   "nbconvert_exporter": "python",
   "pygments_lexer": "ipython3",
   "version": "3.11.6"
  }
 },
 "nbformat": 4,
 "nbformat_minor": 5
}
