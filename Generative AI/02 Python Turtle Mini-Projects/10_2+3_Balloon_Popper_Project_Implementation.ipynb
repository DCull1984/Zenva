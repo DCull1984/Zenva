{
 "cells": [
  {
   "cell_type": "code",
   "execution_count": 1,
   "id": "0b920d59",
   "metadata": {},
   "outputs": [],
   "source": [
    "from turtle import *\n",
    "\n",
    "#Create variables, initial balloon size and max balloon size (v.1)\n",
    "diameter = 40\n",
    "pop_diameter = 100\n",
    "\n",
    "#Create functions for drawing the balloon(v.1)\n",
    "def draw_balloon():\n",
    "    color(\"red\")\n",
    "    dot(diameter)\n",
    "\n",
    "#Create control function to inflate Balloon(v.2)\n",
    "def inflate_balloon ():\n",
    "    global diameter #Lets the program know to use the glabal variable and not create it locally\n",
    "    diameter = diameter + 10\n",
    "    draw_balloon()\n",
    "    \n",
    "    #Adding conditional loop for balloon pop(v.3)\n",
    "    if diameter >= pop_diameter:\n",
    "        clear()\n",
    "        diameter = 40\n",
    "        write(\"POP!\")\n",
    "\n",
    "\n",
    "#Call function to check everything works(v.1)\n",
    "draw_balloon()\n",
    "\n",
    "#Call funtion to inflate the balloon(v.2)\n",
    "#inflate_balloon()\n",
    "\n",
    "#Replacement for inflate_balloon using a control/user input(v.3)\n",
    "onkey(inflate_balloon, \"Up\")\n",
    "listen()\n",
    "\n",
    "#Needed to use IDE correctly.\n",
    "done()"
   ]
  }
 ],
 "metadata": {
  "kernelspec": {
   "display_name": "Python 3 (ipykernel)",
   "language": "python",
   "name": "python3"
  },
  "language_info": {
   "codemirror_mode": {
    "name": "ipython",
    "version": 3
   },
   "file_extension": ".py",
   "mimetype": "text/x-python",
   "name": "python",
   "nbconvert_exporter": "python",
   "pygments_lexer": "ipython3",
   "version": "3.11.6"
  }
 },
 "nbformat": 4,
 "nbformat_minor": 5
}
