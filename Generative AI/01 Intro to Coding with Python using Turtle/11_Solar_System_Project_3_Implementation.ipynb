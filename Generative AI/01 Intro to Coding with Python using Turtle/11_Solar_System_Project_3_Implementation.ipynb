{
 "cells": [
  {
   "cell_type": "code",
   "execution_count": null,
   "id": "ca069e37",
   "metadata": {},
   "outputs": [],
   "source": [
    "#3 Implementation;\n",
    "from turtle import *\n",
    "\n",
    "speed(0)\n",
    "#Set Background to black\n",
    "bgcolor(\"black\")\n",
    "#Set turtle to Orange\n",
    "color(\"orange\")\n",
    "#Draw and fill the first planet\n",
    "begin_fill()\n",
    "circle(60)\n",
    "end_fill()\n",
    "#Lift pen and move to location of second planet, then set pen back down\n",
    "penup()\n",
    "forward(100)\n",
    "pendown()\n",
    "#Change turtle to Gray\n",
    "color(\"gray\")\n",
    "#Draw and fill the second planet\n",
    "begin_fill()\n",
    "circle(20)\n",
    "end_fill()\n",
    "#Lift pen and move to location of third planet, then set pen back down\n",
    "penup()\n",
    "forward(80)\n",
    "pendown()\n",
    "#Change turtle to Red\n",
    "color(\"red\")\n",
    "#Draw and fill the third planet\n",
    "begin_fill()\n",
    "circle(40)\n",
    "end_fill()\n",
    "#Lift pen and move to location of fourth planet, then set pen back down\n",
    "penup()\n",
    "forward(90)\n",
    "pendown()\n",
    "#Change turtle to Green\n",
    "color(\"green\")\n",
    "#Draw and fill the fourth planet\n",
    "begin_fill()\n",
    "circle(30)\n",
    "end_fill()\n"
   ]
  }
 ],
 "metadata": {
  "kernelspec": {
   "display_name": "Python 3 (ipykernel)",
   "language": "python",
   "name": "python3"
  },
  "language_info": {
   "codemirror_mode": {
    "name": "ipython",
    "version": 3
   },
   "file_extension": ".py",
   "mimetype": "text/x-python",
   "name": "python",
   "nbconvert_exporter": "python",
   "pygments_lexer": "ipython3",
   "version": "3.11.6"
  }
 },
 "nbformat": 4,
 "nbformat_minor": 5
}
