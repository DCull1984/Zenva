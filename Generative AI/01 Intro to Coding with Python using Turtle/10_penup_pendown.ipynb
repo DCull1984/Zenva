{
 "cells": [
  {
   "cell_type": "code",
   "execution_count": 5,
   "id": "207f6b85",
   "metadata": {},
   "outputs": [],
   "source": [
    "from turtle import *\n",
    "\n",
    "circle(50)\n",
    "\n",
    "penup()\n",
    "forward(120)\n",
    "pendown()\n",
    "\n",
    "circle(50)"
   ]
  },
  {
   "cell_type": "code",
   "execution_count": null,
   "id": "da127df5",
   "metadata": {},
   "outputs": [],
   "source": []
  }
 ],
 "metadata": {
  "kernelspec": {
   "display_name": "Python 3 (ipykernel)",
   "language": "python",
   "name": "python3"
  },
  "language_info": {
   "codemirror_mode": {
    "name": "ipython",
    "version": 3
   },
   "file_extension": ".py",
   "mimetype": "text/x-python",
   "name": "python",
   "nbconvert_exporter": "python",
   "pygments_lexer": "ipython3",
   "version": "3.11.6"
  }
 },
 "nbformat": 4,
 "nbformat_minor": 5
}
