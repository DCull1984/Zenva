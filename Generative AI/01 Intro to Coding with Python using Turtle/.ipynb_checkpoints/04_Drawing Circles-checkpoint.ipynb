{
 "cells": [
  {
   "cell_type": "code",
   "execution_count": 3,
   "id": "2102363a",
   "metadata": {},
   "outputs": [],
   "source": [
    "#Drawing circles\n",
    "from turtle import *\n",
    "\n",
    "#circle needs to know the Radius of the circle, in the example this is 50 pixels wide\n",
    "circle(50)\n",
    "#Add forward and draw another circle\n",
    "forward(100)\n",
    "circle(50)"
   ]
  },
  {
   "cell_type": "code",
   "execution_count": null,
   "id": "eb3dc656",
   "metadata": {},
   "outputs": [],
   "source": []
  }
 ],
 "metadata": {
  "kernelspec": {
   "display_name": "Python 3 (ipykernel)",
   "language": "python",
   "name": "python3"
  },
  "language_info": {
   "codemirror_mode": {
    "name": "ipython",
    "version": 3
   },
   "file_extension": ".py",
   "mimetype": "text/x-python",
   "name": "python",
   "nbconvert_exporter": "python",
   "pygments_lexer": "ipython3",
   "version": "3.11.6"
  }
 },
 "nbformat": 4,
 "nbformat_minor": 5
}
