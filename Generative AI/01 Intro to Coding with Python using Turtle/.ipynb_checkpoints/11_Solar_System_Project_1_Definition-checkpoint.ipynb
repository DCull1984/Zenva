{
 "cells": [
  {
   "cell_type": "code",
   "execution_count": 4,
   "id": "b65663f7",
   "metadata": {},
   "outputs": [],
   "source": [
    "#Project management 4 steps\n",
    "\n",
    "#1 Definition; \n",
    "#Creating a Solar System using Python Turtle\n",
    "#Black background and different coloured Planets\n",
    "#Develop using tools used so far\n",
    "#Will be an example of how Python can be used to create digital art\n"
   ]
  }
 ],
 "metadata": {
  "kernelspec": {
   "display_name": "Python 3 (ipykernel)",
   "language": "python",
   "name": "python3"
  },
  "language_info": {
   "codemirror_mode": {
    "name": "ipython",
    "version": 3
   },
   "file_extension": ".py",
   "mimetype": "text/x-python",
   "name": "python",
   "nbconvert_exporter": "python",
   "pygments_lexer": "ipython3",
   "version": "3.11.6"
  }
 },
 "nbformat": 4,
 "nbformat_minor": 5
}
