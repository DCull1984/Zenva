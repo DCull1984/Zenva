{
 "cells": [
  {
   "cell_type": "code",
   "execution_count": 9,
   "id": "41186120",
   "metadata": {},
   "outputs": [],
   "source": [
    "from turtle import *\n",
    "#Added AFTER, when run this will paint the initial pen to red\n",
    "color(\"red\")\n",
    "#initial instruction\n",
    "forward(100)\n",
    "\n",
    "color(\"gold\")\n",
    "right(90)\n",
    "forward(100)\n",
    "#Can accept Hex as colour input, remember to space each line as it will throw errors(Jupyter Notebook!)\n",
    "\n",
    "color(\"#00ff48\")\n",
    "right(90)\n",
    "forward(100)"
   ]
  },
  {
   "cell_type": "code",
   "execution_count": null,
   "id": "3ae5dc78",
   "metadata": {},
   "outputs": [],
   "source": []
  },
  {
   "cell_type": "code",
   "execution_count": null,
   "id": "e9950718",
   "metadata": {},
   "outputs": [],
   "source": []
  },
  {
   "cell_type": "code",
   "execution_count": null,
   "id": "258bbc6b",
   "metadata": {},
   "outputs": [],
   "source": []
  }
 ],
 "metadata": {
  "kernelspec": {
   "display_name": "Python 3 (ipykernel)",
   "language": "python",
   "name": "python3"
  },
  "language_info": {
   "codemirror_mode": {
    "name": "ipython",
    "version": 3
   },
   "file_extension": ".py",
   "mimetype": "text/x-python",
   "name": "python",
   "nbconvert_exporter": "python",
   "pygments_lexer": "ipython3",
   "version": "3.11.6"
  }
 },
 "nbformat": 4,
 "nbformat_minor": 5
}
