{
 "cells": [
  {
   "cell_type": "code",
   "execution_count": 4,
   "id": "f6c4e1c2",
   "metadata": {},
   "outputs": [
    {
     "name": "stdout",
     "output_type": "stream",
     "text": [
      "UK\n",
      "56000000\n",
      "False\n",
      "11072.76\n"
     ]
    }
   ],
   "source": [
    "#Create 4 Variables which can be used to describe a country using the correct data types\n",
    "# - Country_name\n",
    "# - population\n",
    "# - landlocked\n",
    "# - border_size\n",
    "\n",
    "country_name = \"UK\"\n",
    "population = 56000000\n",
    "landlocked = False\n",
    "bordersize = 11072.76\n",
    "\n",
    "print(country_name)\n",
    "print(population)\n",
    "print(landlocked)\n",
    "print(bordersize)"
   ]
  }
 ],
 "metadata": {
  "kernelspec": {
   "display_name": "Python 3 (ipykernel)",
   "language": "python",
   "name": "python3"
  },
  "language_info": {
   "codemirror_mode": {
    "name": "ipython",
    "version": 3
   },
   "file_extension": ".py",
   "mimetype": "text/x-python",
   "name": "python",
   "nbconvert_exporter": "python",
   "pygments_lexer": "ipython3",
   "version": "3.11.6"
  }
 },
 "nbformat": 4,
 "nbformat_minor": 5
}
