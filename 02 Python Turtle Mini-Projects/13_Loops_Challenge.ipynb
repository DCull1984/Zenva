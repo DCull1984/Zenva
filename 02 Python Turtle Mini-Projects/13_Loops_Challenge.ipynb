{
 "cells": [
  {
   "cell_type": "code",
   "execution_count": 3,
   "id": "ada84d34",
   "metadata": {},
   "outputs": [],
   "source": [
    "#setup for the challenge\n",
    "from turtle import *\n",
    "\n",
    "def move_and_turn(angle):\n",
    "    forward(50)\n",
    "    right(angle)\n",
    "\n",
    "#Create a For loop to create a shape\n",
    "#Challenge Code\n",
    "\n",
    "for x in range(12):\n",
    "    move_and_turn(30)\n",
    "\n",
    "done()"
   ]
  }
 ],
 "metadata": {
  "kernelspec": {
   "display_name": "Python 3 (ipykernel)",
   "language": "python",
   "name": "python3"
  },
  "language_info": {
   "codemirror_mode": {
    "name": "ipython",
    "version": 3
   },
   "file_extension": ".py",
   "mimetype": "text/x-python",
   "name": "python",
   "nbconvert_exporter": "python",
   "pygments_lexer": "ipython3",
   "version": "3.11.6"
  }
 },
 "nbformat": 4,
 "nbformat_minor": 5
}
