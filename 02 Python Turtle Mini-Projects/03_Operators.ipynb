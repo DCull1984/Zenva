{
 "cells": [
  {
   "cell_type": "code",
   "execution_count": 3,
   "id": "0cf74aac",
   "metadata": {},
   "outputs": [
    {
     "name": "stdout",
     "output_type": "stream",
     "text": [
      "10\n",
      "60\n",
      "90.0\n",
      "45.0\n"
     ]
    }
   ],
   "source": [
    "#create a variable and assign a value\n",
    "health = 100\n",
    "\n",
    "#replacing variable decrease to variable - vaiable\n",
    "damage = 90\n",
    "\n",
    "#change the variable to show a decrease in value\n",
    "health = health - damage\n",
    "\n",
    "#show the variable\n",
    "print(health)\n",
    "\n",
    "#mid lesson challenge add health\n",
    "health = health + 50\n",
    "\n",
    "print(health)\n",
    "\n",
    "#change the variable by multiplication\n",
    "health = health *1.5\n",
    "\n",
    "print(health)\n",
    "\n",
    "#change the variable by division\n",
    "health = health / 2\n",
    "\n",
    "print(health)\n",
    "\n",
    "#all these can also be shorthanded\n",
    "health -= damage\n",
    "health += 50\n",
    "health *= 1.5\n",
    "health /+ 2"
   ]
  }
 ],
 "metadata": {
  "kernelspec": {
   "display_name": "Python 3 (ipykernel)",
   "language": "python",
   "name": "python3"
  },
  "language_info": {
   "codemirror_mode": {
    "name": "ipython",
    "version": 3
   },
   "file_extension": ".py",
   "mimetype": "text/x-python",
   "name": "python",
   "nbconvert_exporter": "python",
   "pygments_lexer": "ipython3",
   "version": "3.11.6"
  }
 },
 "nbformat": 4,
 "nbformat_minor": 5
}
