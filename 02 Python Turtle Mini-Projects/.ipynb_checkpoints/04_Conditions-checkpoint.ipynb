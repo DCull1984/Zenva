{
 "cells": [
  {
   "cell_type": "code",
   "execution_count": 2,
   "id": "acaa704b",
   "metadata": {},
   "outputs": [
    {
     "name": "stdout",
     "output_type": "stream",
     "text": [
      "a is equal to b\n"
     ]
    }
   ],
   "source": [
    "# variable name, assignment operator, value\n",
    "a = 5\n",
    "b = 8\n",
    "\n",
    "#Will not run, switch a to 8 or b to 5. conditional must have the : \n",
    "if a == b:\n",
    "    print(\"a is equal to b\")"
   ]
  }
 ],
 "metadata": {
  "kernelspec": {
   "display_name": "Python 3 (ipykernel)",
   "language": "python",
   "name": "python3"
  },
  "language_info": {
   "codemirror_mode": {
    "name": "ipython",
    "version": 3
   },
   "file_extension": ".py",
   "mimetype": "text/x-python",
   "name": "python",
   "nbconvert_exporter": "python",
   "pygments_lexer": "ipython3",
   "version": "3.11.6"
  }
 },
 "nbformat": 4,
 "nbformat_minor": 5
}
